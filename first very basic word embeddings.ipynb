{"cell_type": "markdown",
    "metadata": {},
   "source": [
    "### source: https://machinelearningmastery.com/develop-word-embeddings-python-gensim/"
   ]
}
{
 "cells": [
  {
   "cell_type": "code",
   "execution_count": 2,
   "metadata": {},
   "outputs": [],
   "source": [
    "from gensim.models import Word2Vec"
   ]
  },
  {
   "cell_type": "markdown",
   "metadata": {},
   "source": [
    "### Developing word embeddings"
   ]
  },
  {
   "cell_type": "code",
   "execution_count": 33,
   "metadata": {},
   "outputs": [],
   "source": [
    "#training data\n",
    "sentences = [['this', 'is', 'the', 'first', 'sentence', 'for', 'word2vec'],\n",
    "             ['this', 'is', 'the', 'second', 'sentence'],\n",
    "             ['yet', 'another', 'sentence'],\n",
    "             ['one', 'more', 'sentence'],\n",
    "             ['and', 'the', 'final', 'sentence']]"
   ]
  },
  {
   "cell_type": "code",
   "execution_count": 34,
   "metadata": {},
   "outputs": [
    {
     "name": "stdout",
     "output_type": "stream",
     "text": [
      "Word2Vec(vocab=14, size=100, alpha=0.025)\n"
     ]
    }
   ],
   "source": [
    "#train model\n",
    "model = Word2Vec(sentences, min_count=1)\n",
    "print(model)"
   ]
  },
  {
   "cell_type": "code",
   "execution_count": 35,
   "metadata": {},
   "outputs": [
    {
     "data": {
      "text/plain": [
       "['this',\n",
       " 'is',\n",
       " 'the',\n",
       " 'first',\n",
       " 'sentence',\n",
       " 'for',\n",
       " 'word2vec',\n",
       " 'second',\n",
       " 'yet',\n",
       " 'another',\n",
       " 'one',\n",
       " 'more',\n",
       " 'and',\n",
       " 'final']"
      ]
     },
     "execution_count": 35,
     "metadata": {},
     "output_type": "execute_result"
    }
   ],
   "source": [
    "#summarize vocabulary\n",
    "words = list(model.wv.vocab)\n",
    "words"
   ]
  },
  {
   "cell_type": "code",
   "execution_count": 36,
   "metadata": {},
   "outputs": [
    {
     "name": "stdout",
     "output_type": "stream",
     "text": [
      "[-3.8289167e-03  4.9214950e-03 -3.0456604e-03 -2.5206332e-03\n",
      " -4.4563408e-03  2.6524165e-03  3.3178304e-03 -4.2573828e-03\n",
      "  2.1428312e-03 -3.7719309e-03 -3.2702037e-03  3.3672918e-03\n",
      "  2.2763710e-03 -3.5464067e-03 -1.0645041e-03  3.9856788e-03\n",
      " -1.4650613e-03 -1.8408783e-03  4.0751616e-03 -5.6750159e-04\n",
      " -2.0309556e-03 -4.3513087e-04  3.1975696e-03  4.8012487e-03\n",
      "  4.6316213e-03  4.9134092e-03 -2.6273460e-03 -7.1129610e-04\n",
      " -1.9711964e-03  3.4978315e-03 -3.8551650e-04 -2.4239251e-03\n",
      " -2.1514760e-03  3.7950359e-03 -3.0395477e-03 -3.8776568e-03\n",
      " -3.1183364e-03  4.0546578e-04  4.9046939e-04  4.5350865e-03\n",
      "  3.8157804e-03  8.0605206e-04  1.7691838e-03  1.0202322e-03\n",
      "  5.3309766e-04 -2.0035409e-04  3.9814720e-03  3.4106211e-03\n",
      " -2.3346367e-04  2.6971854e-03 -4.2765569e-03  2.4459022e-03\n",
      "  2.3091594e-03 -3.5986253e-03 -2.7960599e-03  2.0056986e-03\n",
      " -7.5161265e-04 -1.6460899e-03  1.7125315e-03  4.1887313e-03\n",
      "  4.7346754e-03 -4.4151763e-03 -4.9412493e-03  2.8596167e-03\n",
      " -3.7010962e-03  3.3732930e-03 -2.2416555e-03  2.3448387e-04\n",
      " -4.2978381e-03 -1.4053012e-03 -5.9814763e-04 -5.8963495e-05\n",
      " -4.7632013e-03  3.0884081e-03 -1.3760705e-03 -5.9133180e-04\n",
      " -3.7536644e-03  4.1637267e-03 -3.2851812e-03 -1.0615380e-03\n",
      "  6.1790494e-04 -2.8506750e-03 -1.0240941e-03  2.6382690e-03\n",
      "  5.2683779e-05  1.4701423e-03 -1.1790601e-03  4.3992139e-03\n",
      " -8.6045620e-04  4.7679343e-03 -3.6155079e-03  1.4769153e-03\n",
      " -1.5265291e-03 -4.5714183e-03  1.3476929e-03  4.4762930e-03\n",
      "  1.5459418e-03  3.5698779e-03 -1.6452401e-03 -8.4526517e-04]\n"
     ]
    },
    {
     "name": "stderr",
     "output_type": "stream",
     "text": [
      "C:\\Users\\maerz\\Anaconda3\\lib\\site-packages\\ipykernel_launcher.py:2: DeprecationWarning: Call to deprecated `__getitem__` (Method will be removed in 4.0.0, use self.wv.__getitem__() instead).\n",
      "  \n"
     ]
    }
   ],
   "source": [
    "#access the vector of one word\n",
    "print(model['sentence'])"
   ]
  },
  {
   "cell_type": "code",
   "execution_count": 37,
   "metadata": {},
   "outputs": [],
   "source": [
    "#save model\n",
    "model.save('first_model.bin')"
   ]
  },
  {
   "cell_type": "code",
   "execution_count": 38,
   "metadata": {},
   "outputs": [],
   "source": [
    "#load model\n",
    "new_model=Word2Vec.load('first_model.bin')"
   ]
  },
  {
   "cell_type": "markdown",
   "metadata": {},
   "source": [
    "### visualize them"
   ]
  },
  {
   "cell_type": "code",
   "execution_count": 39,
   "metadata": {},
   "outputs": [
    {
     "name": "stderr",
     "output_type": "stream",
     "text": [
      "C:\\Users\\maerz\\Anaconda3\\lib\\site-packages\\ipykernel_launcher.py:2: DeprecationWarning: Call to deprecated `__getitem__` (Method will be removed in 4.0.0, use self.wv.__getitem__() instead).\n",
      "  \n"
     ]
    }
   ],
   "source": [
    "# retrieve vectors from trained model\n",
    "X=new_model[new_model.wv.vocab]"
   ]
  },
  {
   "cell_type": "code",
   "execution_count": 40,
   "metadata": {},
   "outputs": [
    {
     "data": {
      "text/plain": [
       "14"
      ]
     },
     "execution_count": 40,
     "metadata": {},
     "output_type": "execute_result"
    }
   ],
   "source": [
    "len(X)"
   ]
  },
  {
   "cell_type": "markdown",
   "metadata": {},
   "source": [
    "#### ...using PCA"
   ]
  },
  {
   "cell_type": "code",
   "execution_count": 41,
   "metadata": {},
   "outputs": [],
   "source": [
    "from sklearn.decomposition import PCA\n",
    "import matplotlib.pyplot as plt"
   ]
  },
  {
   "cell_type": "code",
   "execution_count": 42,
   "metadata": {},
   "outputs": [],
   "source": [
    "pca=PCA (n_components = 2)\n",
    "result = pca.fit_transform(X)"
   ]
  },
  {
   "cell_type": "code",
   "execution_count": 43,
   "metadata": {},
   "outputs": [
    {
     "data": {
      "text/plain": [
       "array([[-0.00840332, -0.01036577],\n",
       "       [-0.00291571, -0.0147571 ],\n",
       "       [-0.01601342, -0.00557051],\n",
       "       [-0.00373209,  0.00146338],\n",
       "       [ 0.01824434,  0.00266952],\n",
       "       [ 0.00375277, -0.00241312],\n",
       "       [-0.01141025,  0.00251972],\n",
       "       [ 0.00190735, -0.0096996 ],\n",
       "       [ 0.01279252, -0.01146933],\n",
       "       [ 0.01486609, -0.00025071],\n",
       "       [-0.01027691,  0.01377548],\n",
       "       [ 0.0017121 ,  0.00959191],\n",
       "       [-0.00589731,  0.00553348],\n",
       "       [ 0.00537384,  0.01897267]], dtype=float32)"
      ]
     },
     "execution_count": 43,
     "metadata": {},
     "output_type": "execute_result"
    }
   ],
   "source": [
    "result"
   ]
  },
  {
   "cell_type": "code",
   "execution_count": 44,
   "metadata": {},
   "outputs": [
    {
     "data": {
      "image/png": "[encoded data removed]",
      "text/plain": [
       "<Figure size 432x288 with 1 Axes>"
      ]
     },
     "metadata": {
      "needs_background": "light"
     },
     "output_type": "display_data"
    }
   ],
   "source": [
    "#scatterplot\n",
    "plt.scatter(result[:,0], result[:,1])\n",
    "plt.xlabel('component 1')\n",
    "plt.ylabel('component 2')\n",
    "words = list(new_model.wv.vocab)\n",
    "words \n",
    "for i, word in enumerate(words):\n",
    "    plt.annotate(word, xy= (result[i,0], result[i,1]))\n",
    "plt.show()"
   ]
  },
  {
   "cell_type": "code",
   "execution_count": null,
   "metadata": {},
   "outputs": [],
   "source": []
  }
 ],
 "metadata": {
  "kernelspec": {
   "display_name": "Python [conda env:root] *",
   "language": "python",
   "name": "conda-root-py"
  },
  "language_info": {
   "codemirror_mode": {
    "name": "ipython",
    "version": 3
   },
   "file_extension": ".py",
   "mimetype": "text/x-python",
   "name": "python",
   "nbconvert_exporter": "python",
   "pygments_lexer": "ipython3",
   "version": "3.7.4"
  }
 },
 "nbformat": 4,
 "nbformat_minor": 2
}
